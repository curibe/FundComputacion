{
  "nbformat": 4,
  "nbformat_minor": 0,
  "metadata": {
    "colab": {
      "name": "print",
      "version": "0.3.2",
      "provenance": [],
      "collapsed_sections": [],
      "include_colab_link": true
    },
    "kernelspec": {
      "name": "python3",
      "display_name": "Python 3"
    }
  },
  "cells": [
    {
      "cell_type": "markdown",
      "metadata": {
        "id": "view-in-github",
        "colab_type": "text"
      },
      "source": [
        "<a href=\"https://colab.research.google.com/github/curibe/FundComputacion/blob/master/print.ipynb\" target=\"_parent\"><img src=\"https://colab.research.google.com/assets/colab-badge.svg\" alt=\"Open In Colab\"/></a>"
      ]
    },
    {
      "cell_type": "markdown",
      "metadata": {
        "id": "uVo1pgH4oiih",
        "colab_type": "text"
      },
      "source": [
        "# Uso del comando _print_ en python\n",
        "\n",
        "\n",
        "A diferencia de muchos lenguajes de programación, el comando print en python presenta distintas formas de uso para una misma finalidad. Estas distintas formas hacen uso de las formas tradicionales, comunes entre lenguajes de programación, o haciendo uso del estilo personalizado de python\n"
      ]
    },
    {
      "cell_type": "code",
      "metadata": {
        "id": "YK5KqkqcoezL",
        "colab_type": "code",
        "outputId": "5b59f1a7-a369-4f31-9446-fb22f90554cd",
        "colab": {
          "base_uri": "https://localhost:8080/",
          "height": 34
        }
      },
      "source": [
        "print(\"Hola a todos\")"
      ],
      "execution_count": 0,
      "outputs": [
        {
          "output_type": "stream",
          "text": [
            "Hola a todos\n"
          ],
          "name": "stdout"
        }
      ]
    },
    {
      "cell_type": "markdown",
      "metadata": {
        "id": "R5_xopbNr9Hc",
        "colab_type": "text"
      },
      "source": [
        "En este ejemplo se puede ver que el comando print recibio un texto como argumento (el argumento es lo que esta entre parentesis). Se puede tambien pasar varios argumentos al comando print, como se muestra en el siguiente ejemplo"
      ]
    },
    {
      "cell_type": "code",
      "metadata": {
        "id": "N6AQGm_oq35i",
        "colab_type": "code",
        "outputId": "6e048842-1daa-4a38-ae3c-e1768b356c78",
        "colab": {
          "base_uri": "https://localhost:8080/",
          "height": 34
        }
      },
      "source": [
        "print(\"Hola\",\"a\", \"todos\")"
      ],
      "execution_count": 0,
      "outputs": [
        {
          "output_type": "stream",
          "text": [
            "Hola a todos\n"
          ],
          "name": "stdout"
        }
      ]
    },
    {
      "cell_type": "markdown",
      "metadata": {
        "id": "U3rWfjR5sZ7p",
        "colab_type": "text"
      },
      "source": [
        "Nótese que en este caso se pasaron 3 argumentos, en donde cada texto no posee espacios entre comillas (por ejemplo, \" todos\"). En la salida se puede observar que python se encarga internamente de asignar un espacio en pantalla entre los argumentos que se le pasa al comando."
      ]
    },
    {
      "cell_type": "code",
      "metadata": {
        "id": "NiXIqIkRs15S",
        "colab_type": "code",
        "colab": {}
      },
      "source": [
        ""
      ],
      "execution_count": 0,
      "outputs": []
    }
  ]
}